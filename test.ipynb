{
 "cells": [
  {
   "cell_type": "markdown",
   "metadata": {},
   "source": [
    "## INSTALL DEPENDENCIES"
   ]
  },
  {
   "cell_type": "code",
   "execution_count": null,
   "metadata": {},
   "outputs": [],
   "source": [
    "%pip install faker\n",
    "%pip install numpy pandas matplotlib seaborn pyarrow\n",
    "%pip install ipython-sql psycopg2-binary sqlalchemy\n",
    "\n",
    "%load_ext sql\n"
   ]
  },
  {
   "cell_type": "markdown",
   "metadata": {},
   "source": [
    "## Config Database Connection"
   ]
  },
  {
   "cell_type": "code",
   "execution_count": null,
   "metadata": {},
   "outputs": [],
   "source": [
    "\n",
    "username = 'postgres'\n",
    "password = 'logos_postgres'\n",
    "hostname = 'localhost'\n",
    "port = '5432'\n",
    "database = 'postgres'\n",
    "\n",
    "connection_string = f'postgresql://{username}:{password}@{hostname}:{port}/{database}'\n",
    "\n",
    "%sql $connection_string"
   ]
  },
  {
   "cell_type": "code",
   "execution_count": null,
   "metadata": {},
   "outputs": [],
   "source": [
    "# config variables for the database connection\n",
    "table_name = 'test'"
   ]
  },
  {
   "cell_type": "markdown",
   "metadata": {},
   "source": [
    "## Doing SQL Commands on Database\n",
    "- Create table\n",
    "- Insert mock data\n",
    "- Get data\n",
    "- Delete all data from table\n"
   ]
  },
  {
   "cell_type": "code",
   "execution_count": null,
   "metadata": {},
   "outputs": [],
   "source": [
    "# Create test table\n",
    "\n",
    "%sql CREATE TABLE IF NOT EXISTS $table_name (\\\n",
    "    id SERIAL PRIMARY KEY,\\\n",
    "    answer TEXT,\\\n",
    "    question TEXT,\\\n",
    "    keywords TEXT[],\\\n",
    "    updatedAt TIMESTAMP DEFAULT CURRENT_TIMESTAMP\\\n",
    ")"
   ]
  },
  {
   "cell_type": "code",
   "execution_count": null,
   "metadata": {},
   "outputs": [],
   "source": [
    "# Generate mock data\n",
    "from faker import Faker\n",
    "import random\n",
    "\n",
    "fake = Faker()\n",
    "TOPIC = 'astronomy' # Assume we work on topic of astronomy\n",
    "ANS_COUNT = 100 # Assume we have 100 distinct answers\n",
    "QUES_COUNT = 100 # Assume we have 100 distinct questions\n",
    "\n",
    "keywords = ['star', 'planet', 'galaxy', 'blackhole', 'wormhole', 'nebula', 'supernova', 'quasar', 'pulsar', 'cosmology',\n",
    "            'lightcone', 'bigbang', 'darkmatter', 'darkenergy', 'gravity', 'relativity', 'quantum', 'relativity', 'telescope']\n",
    "\n",
    "# Create a dictionary where each question maps to a unique answer and keywords\n",
    "ques_ans_dict = {fake.text(): (fake.text(), random.sample(keywords, k=random.randint(0, len(keywords)))) for _ in range(QUES_COUNT)}\n",
    "\n",
    "mock_data = []\n",
    "DATA_COUNT = 1000 # Number of mock data to be inserted\n",
    "\n",
    "for i in range(DATA_COUNT):\n",
    "    ques, (ans, keys) = random.choice(list(ques_ans_dict.items())) # Select a random question-answer-keywords tuple\n",
    "    mock_data.append((ans, ques, keys))"
   ]
  },
  {
   "cell_type": "code",
   "execution_count": null,
   "metadata": {},
   "outputs": [],
   "source": [
    "# Insert 1 mock data\n",
    "%sql INSERT INTO $table_name (answer, question, keywords) \\\n",
    "    VALUES ('Saturn', 'What is the 6th planet in the Solar System', array['Saturn', 'planet', 'astronomy'])\n",
    ";"
   ]
  },
  {
   "cell_type": "code",
   "execution_count": null,
   "metadata": {},
   "outputs": [],
   "source": [
    "# Insert multiple mock data\n",
    "for data in mock_data:\n",
    "    answer, question, keywords = data\n",
    "    keywords_str = ', '.join(f\"'{keyword}'\" for keyword in keywords) # convert list of keywords to string   \n",
    "    %sql INSERT INTO $table_name (answer, question, keywords) VALUES (:answer, :question, :keywords)"
   ]
  },
  {
   "cell_type": "code",
   "execution_count": null,
   "metadata": {},
   "outputs": [],
   "source": [
    "# get all data from the table\n",
    "ans = %sql SELECT * FROM $table_name\n",
    "print(ans)"
   ]
  },
  {
   "cell_type": "code",
   "execution_count": null,
   "metadata": {},
   "outputs": [],
   "source": [
    "# Delete all data from the table\n",
    "# %sql TRUNCATE $table_name\n",
    "\n",
    "# Drop the table\n",
    "#%sql DROP TABLE $table_name"
   ]
  },
  {
   "cell_type": "markdown",
   "metadata": {},
   "source": [
    "## Doing Data Analysis on Database"
   ]
  },
  {
   "cell_type": "code",
   "execution_count": null,
   "metadata": {},
   "outputs": [],
   "source": [
    "import pandas as pd\n",
    "pd.set_option('display.max_columns', None)  # Display all columns\n",
    "pd.set_option('display.expand_frame_repr', False)  # Prevent wrapping to next line\n",
    "pd.set_option('max_colwidth', None)  # Display full content of each field\n"
   ]
  },
  {
   "cell_type": "code",
   "execution_count": null,
   "metadata": {},
   "outputs": [],
   "source": [
    "# Convert the data to a pandas dataframe\n",
    "df = pd.DataFrame(ans, columns=ans.keys)\n",
    "\n",
    "print('Top 5 rows of the dataframe:')\n",
    "print(df.head())\n",
    "# print info about the dataframe\n",
    "print('\\nInfo about the dataframe:')\n",
    "print(df.info())\n"
   ]
  },
  {
   "cell_type": "code",
   "execution_count": null,
   "metadata": {},
   "outputs": [],
   "source": [
    "# Algorithm to analyze by keywords, meaning for each keyword, we want to know how many questions contain that keyword\n",
    "# Then visualize a distribution of the number of questions for each keyword\n",
    "\n",
    "# Input:\n",
    "# A pandas dataframe df with columns ['id', 'answer', 'question', 'keywords', 'updatedat'], where keywords is a list of keywords\n",
    "\n",
    "# Output:\n",
    "# A plot showing the distribution of the number of questions for each keyword\n",
    "\n",
    "# 1. Loop through rows, take distinct keywords, add to a dict\n",
    "# Map keyword => ids list\n",
    "# 2. Loop through rows to find keywords appearences (maybe input it to a dict)\n",
    "# 3. Plot it\n",
    "\n",
    "from typing import Dict, List\n",
    "def construct_kwdict(pandas_df: pd.DataFrame) -> Dict[str, List[int]]:\n",
    "    kwdict = {}\n",
    "    for _, row in pandas_df.iterrows(): # each row in df table\n",
    "        for kw in row[\"keywords\"]: # keywords col of the row\n",
    "            if kw not in kwdict:\n",
    "                kwdict[kw] = [row[\"id\"]]\n",
    "            else:\n",
    "                kwdict[kw].append(row[\"id\"])\n",
    "            \n",
    "    return kwdict\n",
    "\n",
    "kw_dict = construct_kwdict(df)\n",
    "\n",
    "print(kw_dict)\n",
    "print(len(kw_dict))\n"
   ]
  },
  {
   "cell_type": "code",
   "execution_count": null,
   "metadata": {},
   "outputs": [],
   "source": [
    "# Visualize the distribution of the number of questions for each keyword\n",
    "import matplotlib.pyplot as plt\n",
    "\n",
    "kw_list = []\n",
    "for key in kw_dict.keys():\n",
    "    kw_list.append(key)\n",
    "\n",
    "id_count = []\n",
    "for id_list in kw_dict.values():\n",
    "    id_count.append(len(id_list))\n",
    "\n",
    "print(kw_list)\n",
    "print(id_count)\n",
    "plt.barh(id_count. kw_list, color = \"maroon\", width = 0.2)\n",
    "plt.xlabel('Keywords')\n",
    "plt.ylabel('Number of questions')\n",
    "plt.title('Keyword distribution')\n",
    "plt.savefig('keyword_distribution.png')\n",
    "plt.show()"
   ]
  }
 ],
 "metadata": {
  "kernelspec": {
   "display_name": "venv",
   "language": "python",
   "name": "python3"
  },
  "language_info": {
   "codemirror_mode": {
    "name": "ipython",
    "version": 3
   },
   "file_extension": ".py",
   "mimetype": "text/x-python",
   "name": "python",
   "nbconvert_exporter": "python",
   "pygments_lexer": "ipython3",
   "version": "3.10.12"
  }
 },
 "nbformat": 4,
 "nbformat_minor": 2
}
